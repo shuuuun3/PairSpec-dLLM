{
 "cells": [
  {
   "cell_type": "markdown",
   "metadata": {},
   "source": [
    "# PairSpec-dLLM Colab Runner\n",
    "\n",
    "Google Drive 上に配置した Fast-dLLM / PairSpec-dLLM プロジェクトを Colab GPU でそのまま実行する手順です。各セルを上から順番に実行してください。"
   ]
  },
  {
   "cell_type": "markdown",
   "metadata": {},
   "source": [
    "## 1. Google Drive をマウント\n",
    "初回は認証リンクが表示されるので、コードを入力してマウントします。"
   ]
  },
  {
   "cell_type": "code",
   "execution_count": null,
   "metadata": {},
   "outputs": [],
   "source": [
    "from google.colab import drive\n",
    "drive.mount('/content/drive')"
   ]
  },
  {
   "cell_type": "markdown",
   "metadata": {},
   "source": [
    "## 2. プロジェクトパスの設定と同期\n",
    "- `DRIVE_PROJECT_DIR` を Google Drive 上にコピー済みの PairSpec-dLLM ルートへ変更してください。\n",
    "- Drive から `/content/PairSpec-dLLM` に同期してローカル実行用ワークツリーを用意します。"
   ]
  },
  {
   "cell_type": "code",
   "execution_count": null,
   "metadata": {},
   "outputs": [],
   "source": [
    "import os, shutil, subprocess, textwrap\n",
    "\n",
    "DRIVE_PROJECT_DIR = '/content/drive/MyDrive/PairSpec-dLLM'  # ★必要に応じて変更\n",
    "COLAB_WORKDIR = '/content/PairSpec-dLLM'\n",
    "\n",
    "if not os.path.isdir(DRIVE_PROJECT_DIR):\n",
    "    raise FileNotFoundError(f'Google Drive 上に {DRIVE_PROJECT_DIR} が見つかりません。パスを確認してください。')\n",
    "\n",
    "\n",
    "if os.path.isdir(COLAB_WORKDIR):\n",
    "    shutil.rmtree(COLAB_WORKDIR)\n",
    "\n",
    "subprocess.run(['rsync', '-a', '--exclude', '.git', DRIVE_PROJECT_DIR + '/', COLAB_WORKDIR + '/'], check=True)\n",
    "os.chdir(COLAB_WORKDIR)\n",
    "print('Working directory:', os.getcwd())"
   ]
  },
  {
   "cell_type": "markdown",
   "metadata": {},
   "source": [
    "## 3. 依存関係のインストール\n",
    "Colab ランタイムに必要パッケージを導入します。"
   ]
  },
  {
   "cell_type": "code",
   "execution_count": null,
   "metadata": {},
   "outputs": [],
   "source": [
    "!pip install -U pip\n",
    "!pip install -r requirements.txt"
   ]
  },
  {
   "cell_type": "markdown",
   "metadata": {},
   "source": [
    "## 4. （任意）Hugging Face Hub へのログイン\n",
    "Gated モデルを使用する場合はトークンを入力してください。"
   ]
  },
  {
   "cell_type": "code",
   "execution_count": null,
   "metadata": {},
   "outputs": [],
   "source": [
    "from huggingface_hub import login\n",
    "login()  # トークンを入力"
   ]
  },
  {
   "cell_type": "markdown",
   "metadata": {},
   "source": [
    "## 5. PairSpec-dLLM テスト（LLaDA）\n",
    "以下のコマンドで PairSpec パイプラインを有効化した対話ループを起動します。`draft_device` は Colab では `cuda:0` のみ利用可能です。実行後にセル下部へ入力プロンプトが表示されるので、テキストを入力してください。"
   ]
  },
  {
   "cell_type": "code",
   "execution_count": null,
   "metadata": {},
   "outputs": [],
   "source": [
    "!python -m llada.chat --pairspec \\\n",
    "    --draft_model GSAI-ML/LLaDA-1.5 \\\n",
    "    --draft_device cuda:0 \\\n",
    "    --gen_length 128 --steps 128 --block_size 32 \\\n",
    "    --use_cache --if_cache_position \\\n",
    "    --accept_policy lossless --draft_depth 2 --verbose"
   ]
  },
  {
   "cell_type": "markdown",
   "metadata": {},
   "source": [
    "## 6. （任意）Dream での PairSpec テスト\n",
    "Dream モデルを Drive に配置している場合は以下を参考にパスだけ調整して実行してください。"
   ]
  },
  {
   "cell_type": "code",
   "execution_count": null,
   "metadata": {},
   "outputs": [],
   "source": [
    "# 例: Dream で PairSpec を有効化する場合\n",
    "!python dream/demo_multiturn_chat.py --pairspec \\\n",
    "    --model_path Dream-org/Dream-v0-Instruct-7B \\\n",
    "    --draft_model Dream-org/Dream-v0-lite \\\n",
    "    --draft_device cuda:0 \\\n",
    "    --max_new_tokens 128 --steps 128 --block_length 32 \\\n",
    "    --temperature 0.0 --threshold 0.9 \\\n",
    "    --accept_policy lossless --draft_depth 2 --verbose"
   ]
  }
 ],
 "metadata": {
  "kernelspec": {
   "display_name": "Python 3",
   "language": "python",
   "name": "python3"
  },
  "language_info": {
   "name": "python",
   "version": ""
  }
 },
 "nbformat": 4,
 "nbformat_minor": 5
}
